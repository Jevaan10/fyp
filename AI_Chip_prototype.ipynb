{
  "nbformat": 4,
  "nbformat_minor": 0,
  "metadata": {
    "colab": {
      "provenance": [],
      "authorship_tag": "ABX9TyMyGLAdILaHwJ8fjM+6Icog",
      "include_colab_link": true
    },
    "kernelspec": {
      "name": "python3",
      "display_name": "Python 3"
    },
    "language_info": {
      "name": "python"
    }
  },
  "cells": [
    {
      "cell_type": "markdown",
      "metadata": {
        "id": "view-in-github",
        "colab_type": "text"
      },
      "source": [
        "<a href=\"https://colab.research.google.com/github/Jevaan10/fyp/blob/main/AI_Chip_prototype.ipynb\" target=\"_parent\"><img src=\"https://colab.research.google.com/assets/colab-badge.svg\" alt=\"Open In Colab\"/></a>"
      ]
    },
    {
      "cell_type": "code",
      "execution_count": null,
      "metadata": {
        "colab": {
          "base_uri": "https://localhost:8080/"
        },
        "id": "NsWQ2gJ6vOX3",
        "outputId": "9bf5744e-fe24-443c-b1eb-301ad2dfe917"
      },
      "outputs": [
        {
          "output_type": "stream",
          "name": "stdout",
          "text": [
            "[AI Chip] Heart Rate Detected: 134 bpm\n",
            "[AI Alert to Brain] Warning: High heart rate detected!\n",
            "[AI Suggestion] Please rest or contact a doctor.\n"
          ]
        }
      ],
      "source": [
        "import random\n",
        "\n",
        "# Simulate heart rate reading\n",
        "def get_heart_rate():\n",
        "    # Random heart rate between 60 and 160\n",
        "    return random.randint(60, 160)\n",
        "\n",
        "# AI chip function to monitor health\n",
        "def ai_chip_health_monitor(heart_rate):\n",
        "    print(f\"[AI Chip] Heart Rate Detected: {heart_rate} bpm\")\n",
        "    if heart_rate > 120:\n",
        "        print(\"[AI Alert to Brain] Warning: High heart rate detected!\")\n",
        "        print(\"[AI Suggestion] Please rest or contact a doctor.\")\n",
        "    else:\n",
        "        print(\"[AI Chip] Heart rate is normal. No action needed.\")\n",
        "\n",
        "# Run simulation\n",
        "heart_rate = get_heart_rate()\n",
        "ai_chip_health_monitor(heart_rate)\n"
      ]
    }
  ]
}